{
 "cells": [
  {
   "cell_type": "code",
   "execution_count": 1,
   "metadata": {},
   "outputs": [],
   "source": [
    "#coding:utf8\n",
    "import pandas as pd\n",
    "from pandas import Series,DataFrame\n",
    "import numpy as np\n",
    "from sklearn.model_selection import train_test_split,cross_val_score\n",
    "from sklearn.metrics import confusion_matrix\n",
    "import matplotlib.pyplot as plt\n",
    "from sklearn.decomposition import PCA\n",
    "from sklearn.model_selection import learning_curve\n",
    "from sklearn.feature_selection import RFE\n",
    "from matplotlib.colors import ListedColormap\n",
    "import matplotlib.pyplot as plt\n",
    "import warnings\n",
    "from sklearn.svm import SVC\n",
    "from sklearn.model_selection import ShuffleSplit\n",
    "from sklearn.preprocessing import StandardScaler,MaxAbsScaler\n",
    "from sklearn.naive_bayes import MultinomialNB\n",
    "from sklearn.neighbors import KNeighborsClassifier\n",
    "from sklearn.tree import DecisionTreeClassifier\n",
    "from sklearn.ensemble import RandomForestClassifier\n",
    "from sklearn.ensemble import GradientBoostingClassifier\n",
    "from sklearn.ensemble import AdaBoostClassifier\n",
    "from sklearn.svm import SVC\n",
    "from sklearn.naive_bayes import GaussianNB\n",
    "from sklearn.linear_model import LogisticRegression\n",
    "\n",
    "from sklearn.feature_selection import RFE\n",
    "\n",
    "from feature_create import create_features"
   ]
  },
  {
   "cell_type": "code",
   "execution_count": 22,
   "metadata": {},
   "outputs": [
    {
     "name": "stdout",
     "output_type": "stream",
     "text": [
      "(407, 54810)\n",
      "(407, 1)\n"
     ]
    }
   ],
   "source": [
    "\n",
    "names=['alloy','class','delta','Hmix','Smix','Fi','RMS','VEC','r','Sc','deltaHmixmax','deltaHmixmin','rootHmix','rootHmix0','rootHmix0+','rootHmix0-']\n",
    "\n",
    "data=pd.read_csv('/Users/xutao/Nustore Files/我的坚果云/HEA/feature_tools/合并数据集-去除重复.csv',header=0,names=names)\n",
    "#X=data[['delta','Hmix','Smix','Fi','RMS','VEC','r','Sc','deltaHmixmax','deltaHmixmin','rootHmix','rootHmix0','rootHmix0+','rootHmix0-']]\n",
    "Y=data[[\"class\"]]\n",
    "\n",
    "#X=create_features(X,X)\n",
    "\n",
    "#X_gen_fea=generate_feature(X)\n",
    "#X_gen_fea.to_csv('/Users/xutao/Downloads/Python/HEA/HEA-code/generate_feature.csv',index=False)\n",
    "\n",
    "data_generate=pd.read_csv('/Users/xutao/Downloads/Python/HEA/HEA-code/generate_feature.csv')\n",
    "X=data_generate\n",
    "print(X.shape)\n",
    "print(Y.shape)"
   ]
  },
  {
   "cell_type": "code",
   "execution_count": 23,
   "metadata": {},
   "outputs": [
    {
     "name": "stdout",
     "output_type": "stream",
     "text": [
      "(407, 1)\n"
     ]
    },
    {
     "name": "stderr",
     "output_type": "stream",
     "text": [
      "/Library/Frameworks/Python.framework/Versions/3.5/lib/python3.5/site-packages/sklearn/utils/validation.py:578: DataConversionWarning: A column-vector y was passed when a 1d array was expected. Please change the shape of y to (n_samples, ), for example using ravel().\n",
      "  y = column_or_1d(y, warn=True)\n",
      "/Library/Frameworks/Python.framework/Versions/3.5/lib/python3.5/site-packages/sklearn/discriminant_analysis.py:388: UserWarning: Variables are collinear.\n",
      "  warnings.warn(\"Variables are collinear.\")\n"
     ]
    },
    {
     "name": "stdout",
     "output_type": "stream",
     "text": [
      "(407, 2)\n",
      "权重向量： [[-5.22856057e+02 -1.09889306e+02  9.54416361e+02 ... -3.81118693e+03\n",
      "  -2.88729484e+03 -9.65029645e+02]\n",
      " [ 2.91181613e+03 -6.02186259e+01 -4.73160567e+03 ...  2.32936101e+04\n",
      "   2.18555514e+04  9.54443383e+03]\n",
      " [ 1.84409234e+03 -1.03477746e+03 -5.33030002e+03 ...  3.92445970e+04\n",
      "   2.28677964e+04  2.70443244e+02]\n",
      " [-4.75562500e+02  6.92571657e-02  8.04173021e+02 ... -3.61505152e+03\n",
      "  -2.95000679e+03 -8.40243434e+02]\n",
      " [-2.68383619e+02  3.87366875e+02  8.30838933e+02 ... -9.36245400e+03\n",
      "  -7.42748713e+03 -2.68696238e+03]] \n",
      " 权重向量长度： 5\n",
      "权重向量shape: (5, 54810)\n",
      "intercept: [ -17160.32952305  230919.17934722 -684277.4488166   -25589.39239419\n",
      "   92766.85890088]\n",
      "截距长度： 5\n",
      "finish\n"
     ]
    }
   ],
   "source": [
    "#将含有NaN的列(columns)去掉:\n",
    "#X =X.dropna(axis=1)\n",
    "#print(X_new.shape)\n",
    "print(Y.shape)\n",
    "from sklearn.discriminant_analysis import LinearDiscriminantAnalysis\n",
    "lda = LinearDiscriminantAnalysis(n_components=2)\n",
    "lda.fit(X,Y)\n",
    "X_new = lda.transform(X)\n",
    "print(X_new.shape)\n",
    "coef=lda.coef_\n",
    "print(\"权重向量：\",coef,'\\n',\"权重向量长度：\",len(lda.coef_))\n",
    "print(\"权重向量shape:\",coef.shape)\n",
    "#print(\"迭代次数:\",lda.n_iter_)\n",
    "print(\"intercept:\",lda.intercept_)\n",
    "print(\"截距长度：\",len(lda.intercept_))\n",
    "\n",
    "#print(X_new)\n",
    "# pca=PCA(n_components=15)\n",
    "# pca.fit(X_new)\n",
    "# X_new=pca.transform(X_new) #PCA进行降维\n",
    "\n",
    "print(\"finish\")"
   ]
  },
  {
   "cell_type": "code",
   "execution_count": null,
   "metadata": {},
   "outputs": [],
   "source": [
    "a=np.array([[1,2,3]])\n",
    "b=np.array([[1],[2],[3]])\n",
    "#矩阵相乘:\n",
    "print(np.dot(b,a))"
   ]
  },
  {
   "cell_type": "code",
   "execution_count": 24,
   "metadata": {},
   "outputs": [
    {
     "name": "stdout",
     "output_type": "stream",
     "text": [
      "\n",
      "y_test:\n",
      "4    71\n",
      "5    21\n",
      "2    13\n",
      "1    11\n",
      "3     7\n",
      "Name: class, dtype: int64\n",
      "\n",
      "y_train:\n",
      "4    166\n",
      "5     42\n",
      "1     37\n",
      "2     30\n",
      "3      9\n",
      "Name: class, dtype: int64\n",
      "finish\n"
     ]
    }
   ],
   "source": [
    "# print(X_new.shape)\n",
    "# X_new=pd.DataFrame(X_new)\n",
    "# print(type(Y),type(X_new))\n",
    "#print(X_new)\n",
    "#print(Y.corr(X_new))\n",
    "\n",
    "x_train,x_test,y_train,y_test=train_test_split(X_new,Y,test_size=0.3, random_state=1)\n",
    "\n",
    "# 将原始特征，转换为新的特征\n",
    "# x_train = model.transform(x_train)\n",
    "# x_test = model.transform(x_test)\n",
    "\n",
    "print(\"\\ny_test:\")\n",
    "print(y_test['class'].value_counts())\n",
    "\n",
    "print(\"\\ny_train:\")\n",
    "print(y_train['class'].value_counts())\n",
    "\n",
    "print(\"finish\")"
   ]
  },
  {
   "cell_type": "code",
   "execution_count": 25,
   "metadata": {},
   "outputs": [
    {
     "name": "stdout",
     "output_type": "stream",
     "text": [
      "finish\n"
     ]
    }
   ],
   "source": [
    "mnb=MultinomialNB()\n",
    "knc=KNeighborsClassifier()\n",
    "dtc=DecisionTreeClassifier()\n",
    "rfc=RandomForestClassifier()\n",
    "gbc=GradientBoostingClassifier()\n",
    "abc=AdaBoostClassifier(n_estimators=10)\n",
    "svc=SVC(C=1, kernel='rbf', gamma='auto', coef0=0.0, shrinking=True, probability=False, tol=0.001, cache_size=200, class_weight=None, verbose=False)\n",
    "gnb = GaussianNB()\n",
    "LR=LogisticRegression()\n",
    "\n",
    "#reshape  y_train的形状:\n",
    "c, r = y_train.shape \n",
    "y_train=y_train.values\n",
    "y_train= y_train.reshape(c, )\n",
    "print(\"finish\")"
   ]
  },
  {
   "cell_type": "code",
   "execution_count": 26,
   "metadata": {},
   "outputs": [
    {
     "name": "stdout",
     "output_type": "stream",
     "text": [
      "finish\n"
     ]
    }
   ],
   "source": [
    "#mnb.fit(x_train,y_train)\n",
    "knc.fit(x_train,y_train)\n",
    "dtc.fit(x_train,y_train)\n",
    "rfc.fit(x_train,y_train)\n",
    "gbc.fit(x_train,y_train)\n",
    "abc.fit(x_train,y_train)\n",
    "svc.fit(x_train,y_train)\n",
    "gnb.fit(x_train,y_train)\n",
    "LR.fit(x_train,y_train)\n",
    "\n",
    "#y_predict_mnb=mnb.predict(x_test)\n",
    "y_predict_knc=knc.predict(x_test)\n",
    "y_predict_dtc=dtc.predict(x_test)\n",
    "y_predict_rfc=rfc.predict(x_test)\n",
    "y_predict_gbc=gbc.predict(x_test)\n",
    "y_predict_abc=abc.predict(x_test)\n",
    "y_predict_svc=svc.predict(x_test)\n",
    "y_predict_gnb=gnb.predict(x_test)\n",
    "y_predict_lr=LR.predict(x_test)\n",
    "print(\"finish\")"
   ]
  },
  {
   "cell_type": "code",
   "execution_count": 27,
   "metadata": {},
   "outputs": [
    {
     "name": "stdout",
     "output_type": "stream",
     "text": [
      "\n",
      "1:\n",
      "DTC confusioin_matrix:\n",
      " [[11  0  0  0  0]\n",
      " [ 0 13  0  0  0]\n",
      " [ 0  0  7  0  0]\n",
      " [ 0  0  0 71  0]\n",
      " [ 0  0  0  0 21]]\n",
      "\n",
      "KNC confusioin_matrix:\n",
      " [[11  0  0  0  0]\n",
      " [ 0 13  0  0  0]\n",
      " [ 0  0  7  0  0]\n",
      " [ 0  0  0 71  0]\n",
      " [ 0  0  0  0 21]]\n",
      "\n",
      "RFC confusioin_matrix:\n",
      " [[10  0  0  1  0]\n",
      " [ 0 13  0  0  0]\n",
      " [ 0  0  7  0  0]\n",
      " [ 1  0  0 70  0]\n",
      " [ 0  0  0  0 21]]\n",
      "\n",
      "GBC confusioin_matrix:\n",
      " [[11  0  0  0  0]\n",
      " [ 0 13  0  0  0]\n",
      " [ 0  0  7  0  0]\n",
      " [ 0  0  0 71  0]\n",
      " [ 0  0  0  0 21]]\n",
      "\n",
      "Ada confusioin_matrix:\n",
      " [[ 0  0  0 11  0]\n",
      " [ 0 13  0  0  0]\n",
      " [ 0  0  7  0  0]\n",
      " [ 0  0  0 70  1]\n",
      " [ 0  0  0  0 21]]\n",
      "\n",
      "SVC confusioin_matrix:\n",
      " [[ 9  0  0  2  0]\n",
      " [ 0 12  0  1  0]\n",
      " [ 0  0  7  0  0]\n",
      " [ 0  0  0 71  0]\n",
      " [ 0  0  0  0 21]]\n",
      "\n",
      "LR confusioin_matrix:\n",
      " [[ 0  0  0 11  0]\n",
      " [ 0 13  0  0  0]\n",
      " [ 0  0  7  0  0]\n",
      " [ 0  0  0 71  0]\n",
      " [ 0  0  0  0 21]]\n",
      "1: KNC: 1.0 DTC: 1.0 RFC: 0.983739837398374 GBC: 1.0 Ada: 0.9024390243902439 SVC: 0.975609756097561 GauNB: 0.991869918699187 LR: 0.9105691056910569\n"
     ]
    }
   ],
   "source": [
    "from sklearn.metrics import classification_report\n",
    "\n",
    "print('\\n1:')\n",
    "print(\"DTC confusioin_matrix:\\n\",confusion_matrix(y_test,y_predict_dtc))\n",
    "print(\"\\nKNC confusioin_matrix:\\n\",confusion_matrix(y_test,y_predict_knc))\n",
    "print(\"\\nRFC confusioin_matrix:\\n\",confusion_matrix(y_test,y_predict_rfc))\n",
    "print(\"\\nGBC confusioin_matrix:\\n\",confusion_matrix(y_test,y_predict_gbc))\n",
    "print(\"\\nAda confusioin_matrix:\\n\",confusion_matrix(y_test,y_predict_abc))\n",
    "print(\"\\nSVC confusioin_matrix:\\n\",confusion_matrix(y_test,y_predict_svc))\n",
    "print(\"\\nLR confusioin_matrix:\\n\",confusion_matrix(y_test,y_predict_lr))\n",
    "\n",
    "print(\"1:\",\"KNC:\",knc.score(x_test,y_test),'DTC:',dtc.score(x_test,y_test),\"RFC:\",rfc.score(x_test,y_test),\"GBC:\",gbc.score(x_test,y_test),\\\n",
    "\"Ada:\",abc.score(x_test,y_test),\"SVC:\",svc.score(x_test,y_test),\"GauNB:\",gnb.score(x_test,y_test),\\\n",
    "\"LR:\",LR.score(x_test,y_test))\n",
    "\n",
    "\n"
   ]
  },
  {
   "cell_type": "code",
   "execution_count": 29,
   "metadata": {},
   "outputs": [
    {
     "name": "stdout",
     "output_type": "stream",
     "text": [
      "(407, 2)\n",
      "(407, 1)\n",
      "<class 'pandas.core.frame.DataFrame'>\n",
      "407\n",
      "(407, 1)\n"
     ]
    },
    {
     "data": {
      "image/png": "[encoded data removed]",
      "text/plain": [
       "<Figure size 432x288 with 1 Axes>"
      ]
     },
     "metadata": {
      "needs_background": "light"
     },
     "output_type": "display_data"
    }
   ],
   "source": [
    "import matplotlib.pyplot as plt\n",
    "from mpl_toolkits.mplot3d import Axes3D\n",
    "print(X_new.shape)\n",
    "print(Y.shape)\n",
    "print(type(Y))\n",
    "print(len(Y))\n",
    "Y=pd.DataFrame(Y)\n",
    "print(Y.shape)\n",
    "plt.scatter(X_new[:, 0], X_new[:, 1],marker='o',c=np.squeeze(Y))\n",
    "plt.show()"
   ]
  },
  {
   "cell_type": "code",
   "execution_count": null,
   "metadata": {},
   "outputs": [],
   "source": []
  }
 ],
 "metadata": {
  "celltoolbar": "Edit Metadata",
  "kernelspec": {
   "display_name": "Python 3",
   "language": "python",
   "name": "python3"
  },
  "language_info": {
   "codemirror_mode": {
    "name": "ipython",
    "version": 3
   },
   "file_extension": ".py",
   "mimetype": "text/x-python",
   "name": "python",
   "nbconvert_exporter": "python",
   "pygments_lexer": "ipython3",
   "version": "3.5.4"
  }
 },
 "nbformat": 4,
 "nbformat_minor": 2
}
